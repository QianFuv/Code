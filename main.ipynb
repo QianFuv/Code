{
 "cells": [
  {
   "cell_type": "code",
   "execution_count": 1,
   "id": "5cdd469b",
   "metadata": {},
   "outputs": [],
   "source": [
    "# 导入必要的库\n",
    "import sys\n",
    "import os\n",
    "import pandas as pd\n",
    "from pathlib import Path\n",
    "\n",
    "# 添加scripts目录到Python路径\n",
    "sys.path.append('scripts')\n",
    "sys.path.append('scripts/preprocess')\n",
    "\n",
    "# 导入自定义模块\n",
    "from scripts.preprocess.emo_dict import merge_emotion_dicts\n",
    "from scripts.preprocess.stop_words import merge_stopwords, load_merged_stopwords"
   ]
  },
  {
   "cell_type": "code",
   "execution_count": 2,
   "id": "ebfd18fc",
   "metadata": {},
   "outputs": [
    {
     "name": "stderr",
     "output_type": "stream",
     "text": [
      "2025-06-17 16:12:02,207 - INFO - 开始处理情感词典合并...\n"
     ]
    },
    {
     "name": "stdout",
     "output_type": "stream",
     "text": [
      "开始处理情感词典合并...\n"
     ]
    },
    {
     "name": "stderr",
     "output_type": "stream",
     "text": [
      "2025-06-17 16:12:02,564 - INFO - Excel文件包含工作表: ['说明', 'negative', 'positive']\n",
      "2025-06-17 16:12:02,720 - INFO - 从工作表 'positive' 加载积极词: 3338个\n",
      "2025-06-17 16:12:02,855 - INFO - 从工作表 'negative' 加载消极词: 5890个\n",
      "2025-06-17 16:12:02,855 - INFO - 中文金融情感词典加载完成，积极词: 3338个，消极词: 5890个\n",
      "2025-06-17 16:12:02,859 - INFO - RFS词表加载完成，积极词: 1425个，消极词: 1583个\n",
      "2025-06-17 16:12:02,877 - INFO - 情感词典合并完成，积极词: 4067个，消极词: 6465个\n",
      "2025-06-17 16:12:02,878 - INFO - 合并后的词典已保存至: data\\processed_data\\emo_dict.csv\n"
     ]
    },
    {
     "name": "stdout",
     "output_type": "stream",
     "text": [
      "✅ 情感词典合并成功！输出文件: data\\processed_data\\emo_dict.csv\n",
      "\n",
      "📊 合并后的情感词典统计:\n",
      "积极词数量: 4067\n",
      "消极词数量: 6465\n",
      "\n",
      "📋 情感词典样例:\n",
      "  positive negative\n",
      "0       安定     败坏名声\n",
      "1       安康     被没收的\n",
      "2       帮助       变节\n",
      "3       榜样       不便\n",
      "4       饱满      不适当\n",
      "5       保证       妨碍\n",
      "6     筚路蓝缕       腐败\n",
      "7     变得更好     焦头烂额\n",
      "8     举手称赞       困惑\n",
      "9       标杆      落后于\n"
     ]
    }
   ],
   "source": [
    "# 合并情感词典\n",
    "print(\"开始处理情感词典合并...\")\n",
    "emo_dict_result = merge_emotion_dicts()\n",
    "\n",
    "if emo_dict_result:\n",
    "    print(f\"✅ 情感词典合并成功！输出文件: {emo_dict_result}\")\n",
    "    \n",
    "    # 查看合并结果\n",
    "    emo_dict_df = pd.read_csv(emo_dict_result)\n",
    "    print(f\"\\n📊 合并后的情感词典统计:\")\n",
    "    print(f\"积极词数量: {emo_dict_df['positive'].notna().sum()}\")\n",
    "    print(f\"消极词数量: {emo_dict_df['negative'].notna().sum()}\")\n",
    "    \n",
    "    # 显示前几行数据\n",
    "    print(\"\\n📋 情感词典样例:\")\n",
    "    print(emo_dict_df.head(10))\n",
    "else:\n",
    "    print(\"❌ 情感词典合并失败\")"
   ]
  },
  {
   "cell_type": "code",
   "execution_count": 3,
   "id": "764c6754",
   "metadata": {},
   "outputs": [
    {
     "name": "stderr",
     "output_type": "stream",
     "text": [
      "2025-06-17 16:13:52,972 - INFO - 开始处理停用词合并...\n",
      "2025-06-17 16:13:52,974 - INFO - 找到停用词文件: data\\original_data\\stop_words\\baidu_stopwords.txt\n",
      "2025-06-17 16:13:52,976 - INFO - 找到停用词文件: data\\original_data\\stop_words\\cn_stopwords.txt\n",
      "2025-06-17 16:13:52,976 - INFO - 找到停用词文件: data\\original_data\\stop_words\\hit_stopwords.txt\n",
      "2025-06-17 16:13:52,977 - INFO - 找到停用词文件: data\\original_data\\stop_words\\scu_stopwords.txt\n",
      "2025-06-17 16:13:52,978 - INFO - 成功加载停用词文件 data\\original_data\\stop_words\\baidu_stopwords.txt (编码: utf-8)，词汇数: 1395\n",
      "2025-06-17 16:13:52,978 - INFO - 已合并文件 baidu_stopwords.txt，当前总词数: 1395\n",
      "2025-06-17 16:13:52,980 - INFO - 成功加载停用词文件 data\\original_data\\stop_words\\cn_stopwords.txt (编码: utf-8)，词汇数: 746\n",
      "2025-06-17 16:13:52,981 - INFO - 已合并文件 cn_stopwords.txt，当前总词数: 1623\n",
      "2025-06-17 16:13:52,982 - INFO - 成功加载停用词文件 data\\original_data\\stop_words\\hit_stopwords.txt (编码: utf-8)，词汇数: 748\n",
      "2025-06-17 16:13:52,983 - INFO - 已合并文件 hit_stopwords.txt，当前总词数: 1859\n",
      "2025-06-17 16:13:52,984 - INFO - 成功加载停用词文件 data\\original_data\\stop_words\\scu_stopwords.txt (编码: utf-8)，词汇数: 860\n",
      "2025-06-17 16:13:52,984 - INFO - 已合并文件 scu_stopwords.txt，当前总词数: 2311\n",
      "2025-06-17 16:13:52,985 - INFO - 停用词清理完成，清理前: 2311个，清理后: 2311个\n",
      "2025-06-17 16:13:52,988 - INFO - 停用词文件已保存至: data\\processed_data\\stop_words.txt，共 2311 个词\n",
      "2025-06-17 16:13:52,989 - INFO - 停用词合并处理完成\n",
      "2025-06-17 16:13:52,991 - INFO - 成功加载停用词，共 2311 个词\n"
     ]
    },
    {
     "name": "stdout",
     "output_type": "stream",
     "text": [
      "开始处理停用词合并...\n",
      "✅ 停用词合并成功！输出文件: data\\processed_data\\stop_words.txt\n",
      "\n",
      "📊 停用词统计: 共 2311 个停用词\n",
      "\n",
      "📋 停用词样例（前20个）:\n",
      "['\"', '$', '&', \"'\", '(', ')', '*', '+', ',', '-', '--', '.', '...', '......', '...................', './', '.一', '.数', '.日', '/']\n"
     ]
    }
   ],
   "source": [
    "# 合并停用词\n",
    "print(\"开始处理停用词合并...\")\n",
    "stopwords_result = merge_stopwords()\n",
    "\n",
    "if stopwords_result:\n",
    "    print(f\"✅ 停用词合并成功！输出文件: {stopwords_result}\")\n",
    "    \n",
    "    # 加载并查看停用词统计\n",
    "    stopwords_set = load_merged_stopwords()\n",
    "    print(f\"\\n📊 停用词统计: 共 {len(stopwords_set)} 个停用词\")\n",
    "    \n",
    "    # 显示部分停用词\n",
    "    print(\"\\n📋 停用词样例（前20个）:\")\n",
    "    sample_stopwords = sorted(list(stopwords_set))[:20]\n",
    "    print(sample_stopwords)\n",
    "else:\n",
    "    print(\"❌ 停用词合并失败\")"
   ]
  }
 ],
 "metadata": {
  "kernelspec": {
   "display_name": "LRP",
   "language": "python",
   "name": "python3"
  },
  "language_info": {
   "codemirror_mode": {
    "name": "ipython",
    "version": 3
   },
   "file_extension": ".py",
   "mimetype": "text/x-python",
   "name": "python",
   "nbconvert_exporter": "python",
   "pygments_lexer": "ipython3",
   "version": "3.11.9"
  }
 },
 "nbformat": 4,
 "nbformat_minor": 5
}
